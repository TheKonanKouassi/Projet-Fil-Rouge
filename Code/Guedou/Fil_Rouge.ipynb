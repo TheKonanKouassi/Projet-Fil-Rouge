{
 "cells": [
  {
   "cell_type": "markdown",
   "metadata": {
    "ExecuteTime": {
     "end_time": "2018-03-29T13:52:54.164936Z",
     "start_time": "2018-03-29T13:52:54.140274Z"
    }
   },
   "source": [
    "# Bibliothèques"
   ]
  },
  {
   "cell_type": "code",
   "execution_count": 45,
   "metadata": {
    "ExecuteTime": {
     "end_time": "2018-03-29T15:40:38.608965Z",
     "start_time": "2018-03-29T15:40:38.580728Z"
    }
   },
   "outputs": [],
   "source": [
    "\n",
    "# Bibliothèques\n",
    "\n",
    "\n",
    "import sys\n",
    "import pytz # Pour retablir les dates au bon time zone\n",
    "import datetime # Pour la manipulation des dates\n",
    "\n",
    "import numpy as np # Pour la manipulation des tableaux ndarray\n",
    "import pandas as pd # Pour la manipulationd des données DataFrame\n",
    "import seaborn as sns # Pour la visualisation des données\n",
    "import matplotlib.pyplot as plt # Pour la visualisation\n",
    "%matplotlib inline\n",
    "#from windrose import WindroseAxes # Pour la visualisation des données méteo\n",
    "\n",
    "from io import StringIO # Pour la lectue des données\n",
    "from numpy import concatenate # Pour la concatenation de tableau ndarray\n",
    "from pandas import concat # Pour la concatenation de DataFrame\n",
    "\n",
    "from statsmodels.graphics.tsaplots import plot_acf\n",
    "\n",
    "\n",
    "from sklearn.model_selection import train_test_split # Pour faire le split des données\n",
    "from sklearn.metrics import mean_squared_error, mean_absolute_error # Pour évaluer les modèles\n",
    "from sklearn.ensemble import RandomForestRegressor\n"
   ]
  },
  {
   "cell_type": "markdown",
   "metadata": {},
   "source": [
    "# Data"
   ]
  },
  {
   "cell_type": "code",
   "execution_count": 46,
   "metadata": {
    "ExecuteTime": {
     "end_time": "2018-03-29T15:40:42.362607Z",
     "start_time": "2018-03-29T15:40:42.338811Z"
    },
    "collapsed": true
   },
   "outputs": [],
   "source": [
    "\n",
    "PWD=\"~/private/data/\"\n",
    "\n",
    "meteo_train = pd.read_csv(PWD+\"meteo_train.csv\", sep = \";\")\n",
    "conso_train = pd.read_csv(PWD+\"Conso_train_new_var.csv\", sep = \";\")\n",
    "meteo_prev = pd.read_csv(PWD+\"meteo_prev.csv\", sep = \";\")\n"
   ]
  },
  {
   "cell_type": "markdown",
   "metadata": {},
   "source": [
    "On met les bons noms"
   ]
  },
  {
   "cell_type": "code",
   "execution_count": 47,
   "metadata": {
    "ExecuteTime": {
     "end_time": "2018-03-29T15:40:45.744649Z",
     "start_time": "2018-03-29T15:40:45.556886Z"
    }
   },
   "outputs": [],
   "source": [
    "\n",
    "\n",
    "meteo_train.rename(columns = {\"Date UTC\" : \"date\", \"T¬∞ (C)\" :\"temperature\", \"P (hPa)\": \"pression\", \"HR (%)\" : \"humidite_relative\",\n",
    "                                      \"P.ros√©e (¬∞C)\" : \"point_rose\",\"Visi (km)\": \"visibilite\", \"Vt. moy. (km/h)\": \"vent_moyen\",\n",
    "                                      \"Vt. raf. (km/h)\": \"vent_rafale\", \"Vt. dir (¬∞)\": \"vent_direction\",\"RR 3h (mm)\": \"pluie_3h\", \"Neige (cm)\": \"neige\", \n",
    "                                      \"Nebul. (octats)\" : \"nebulosite\"}, inplace =True)\n",
    "\n",
    "meteo_prev.rename(columns = {\"Date UTC\" : \"date\", \"T¬∞ (C)\" :\"temperature\", \"P (hPa)\": \"pression\", \"HR (%)\" : \"humidite_relative\",\n",
    "                                      \"P.ros√©e (¬∞C)\" : \"point_rose\",\"Visi (km)\": \"visibilite\", \"Vt. moy. (km/h)\": \"mean_wind\",\n",
    "                                      \"Vt. raf. (km/h)\": \"vent_rafale\", \"Vt. dir (¬∞)\": \"vent_direction\",\"RR 3h (mm)\": \"pluie_3h\", \"Neige (cm)\": \"neige\", \n",
    "                                      \"Nebul. (octats)\" : \"nebulosite\"}, inplace =True)\n",
    "\n",
    "\n",
    "paris = pytz.timezone('Europe/Paris')\n",
    "\n",
    "meteo_train[\"date\"] = meteo_train[\"date\"].str.replace(\"h\", \":\")\n",
    "meteo_train[\"date\"] = pd.to_datetime(meteo_train[\"date\"], dayfirst = True, format = \"%d/%m/%y %H:%M\")\n",
    "meteo_train.set_index(\"date\", inplace = True)\n",
    "\n",
    "meteo_prev[\"date\"] = meteo_prev[\"date\"].str.replace(\"h\", \":\")\n",
    "meteo_prev[\"date\"] = pd.to_datetime(meteo_prev[\"date\"], dayfirst = True, format = \"%d/%m/%y %H:%M\")\n",
    "meteo_prev.set_index(\"date\", inplace = True)\n",
    "\n",
    "\n",
    "conso_train[\"date\"] = pd.to_datetime(conso_train[\"date\"])\n",
    "conso_train.set_index(\"date\", inplace = True)\n",
    "conso_train.index = conso_train.index.tz_localize(pytz.utc).tz_convert(paris)\n"
   ]
  },
  {
   "cell_type": "code",
   "execution_count": 48,
   "metadata": {
    "ExecuteTime": {
     "end_time": "2018-03-29T15:40:47.683628Z",
     "start_time": "2018-03-29T15:40:47.633725Z"
    }
   },
   "outputs": [
    {
     "data": {
      "text/html": [
       "<div>\n",
       "<style scoped>\n",
       "    .dataframe tbody tr th:only-of-type {\n",
       "        vertical-align: middle;\n",
       "    }\n",
       "\n",
       "    .dataframe tbody tr th {\n",
       "        vertical-align: top;\n",
       "    }\n",
       "\n",
       "    .dataframe thead th {\n",
       "        text-align: right;\n",
       "    }\n",
       "</style>\n",
       "<table border=\"1\" class=\"dataframe\">\n",
       "  <thead>\n",
       "    <tr style=\"text-align: right;\">\n",
       "      <th></th>\n",
       "      <th>temperature</th>\n",
       "      <th>pression</th>\n",
       "      <th>humidite_relative</th>\n",
       "      <th>point_rose</th>\n",
       "      <th>visibilite</th>\n",
       "      <th>vent_moyen</th>\n",
       "      <th>vent_rafale</th>\n",
       "      <th>vent_direction</th>\n",
       "      <th>pluie_3h</th>\n",
       "      <th>neige</th>\n",
       "      <th>nebulosite</th>\n",
       "    </tr>\n",
       "  </thead>\n",
       "  <tbody>\n",
       "    <tr>\n",
       "      <th>count</th>\n",
       "      <td>2856.000000</td>\n",
       "      <td>2856.000000</td>\n",
       "      <td>2856.000000</td>\n",
       "      <td>2856.000000</td>\n",
       "      <td>2856.000000</td>\n",
       "      <td>2856.000000</td>\n",
       "      <td>2853.000000</td>\n",
       "      <td>2856.000000</td>\n",
       "      <td>2584.000000</td>\n",
       "      <td>969.0</td>\n",
       "      <td>2511.000000</td>\n",
       "    </tr>\n",
       "    <tr>\n",
       "      <th>mean</th>\n",
       "      <td>12.358368</td>\n",
       "      <td>1016.821218</td>\n",
       "      <td>81.296919</td>\n",
       "      <td>9.034209</td>\n",
       "      <td>19.281793</td>\n",
       "      <td>17.607125</td>\n",
       "      <td>31.239101</td>\n",
       "      <td>202.286415</td>\n",
       "      <td>0.410217</td>\n",
       "      <td>0.0</td>\n",
       "      <td>6.412983</td>\n",
       "    </tr>\n",
       "    <tr>\n",
       "      <th>std</th>\n",
       "      <td>4.552644</td>\n",
       "      <td>9.368261</td>\n",
       "      <td>12.846094</td>\n",
       "      <td>4.508788</td>\n",
       "      <td>13.870415</td>\n",
       "      <td>10.181637</td>\n",
       "      <td>17.185314</td>\n",
       "      <td>95.898680</td>\n",
       "      <td>1.485661</td>\n",
       "      <td>0.0</td>\n",
       "      <td>2.147243</td>\n",
       "    </tr>\n",
       "    <tr>\n",
       "      <th>min</th>\n",
       "      <td>-0.700000</td>\n",
       "      <td>976.400000</td>\n",
       "      <td>29.000000</td>\n",
       "      <td>-2.800000</td>\n",
       "      <td>0.000000</td>\n",
       "      <td>0.000000</td>\n",
       "      <td>3.704000</td>\n",
       "      <td>0.000000</td>\n",
       "      <td>0.000000</td>\n",
       "      <td>0.0</td>\n",
       "      <td>0.000000</td>\n",
       "    </tr>\n",
       "    <tr>\n",
       "      <th>25%</th>\n",
       "      <td>9.300000</td>\n",
       "      <td>1012.575000</td>\n",
       "      <td>72.750000</td>\n",
       "      <td>5.700000</td>\n",
       "      <td>10.000000</td>\n",
       "      <td>9.260000</td>\n",
       "      <td>18.520000</td>\n",
       "      <td>150.000000</td>\n",
       "      <td>0.000000</td>\n",
       "      <td>0.0</td>\n",
       "      <td>6.000000</td>\n",
       "    </tr>\n",
       "    <tr>\n",
       "      <th>50%</th>\n",
       "      <td>12.300000</td>\n",
       "      <td>1018.400000</td>\n",
       "      <td>84.000000</td>\n",
       "      <td>9.500000</td>\n",
       "      <td>16.000000</td>\n",
       "      <td>16.668000</td>\n",
       "      <td>29.632000</td>\n",
       "      <td>220.000000</td>\n",
       "      <td>0.000000</td>\n",
       "      <td>0.0</td>\n",
       "      <td>7.000000</td>\n",
       "    </tr>\n",
       "    <tr>\n",
       "      <th>75%</th>\n",
       "      <td>15.300000</td>\n",
       "      <td>1023.200000</td>\n",
       "      <td>92.000000</td>\n",
       "      <td>12.300000</td>\n",
       "      <td>25.000000</td>\n",
       "      <td>24.076000</td>\n",
       "      <td>42.596000</td>\n",
       "      <td>270.000000</td>\n",
       "      <td>0.000000</td>\n",
       "      <td>0.0</td>\n",
       "      <td>8.000000</td>\n",
       "    </tr>\n",
       "    <tr>\n",
       "      <th>max</th>\n",
       "      <td>32.100000</td>\n",
       "      <td>1037.700000</td>\n",
       "      <td>100.000000</td>\n",
       "      <td>19.200000</td>\n",
       "      <td>60.000000</td>\n",
       "      <td>66.672000</td>\n",
       "      <td>105.564000</td>\n",
       "      <td>360.000000</td>\n",
       "      <td>18.000000</td>\n",
       "      <td>0.0</td>\n",
       "      <td>8.000000</td>\n",
       "    </tr>\n",
       "  </tbody>\n",
       "</table>\n",
       "</div>"
      ],
      "text/plain": [
       "       temperature     pression  humidite_relative   point_rose   visibilite  \\\n",
       "count  2856.000000  2856.000000        2856.000000  2856.000000  2856.000000   \n",
       "mean     12.358368  1016.821218          81.296919     9.034209    19.281793   \n",
       "std       4.552644     9.368261          12.846094     4.508788    13.870415   \n",
       "min      -0.700000   976.400000          29.000000    -2.800000     0.000000   \n",
       "25%       9.300000  1012.575000          72.750000     5.700000    10.000000   \n",
       "50%      12.300000  1018.400000          84.000000     9.500000    16.000000   \n",
       "75%      15.300000  1023.200000          92.000000    12.300000    25.000000   \n",
       "max      32.100000  1037.700000         100.000000    19.200000    60.000000   \n",
       "\n",
       "        vent_moyen  vent_rafale  vent_direction     pluie_3h  neige  \\\n",
       "count  2856.000000  2853.000000     2856.000000  2584.000000  969.0   \n",
       "mean     17.607125    31.239101      202.286415     0.410217    0.0   \n",
       "std      10.181637    17.185314       95.898680     1.485661    0.0   \n",
       "min       0.000000     3.704000        0.000000     0.000000    0.0   \n",
       "25%       9.260000    18.520000      150.000000     0.000000    0.0   \n",
       "50%      16.668000    29.632000      220.000000     0.000000    0.0   \n",
       "75%      24.076000    42.596000      270.000000     0.000000    0.0   \n",
       "max      66.672000   105.564000      360.000000    18.000000    0.0   \n",
       "\n",
       "        nebulosite  \n",
       "count  2511.000000  \n",
       "mean      6.412983  \n",
       "std       2.147243  \n",
       "min       0.000000  \n",
       "25%       6.000000  \n",
       "50%       7.000000  \n",
       "75%       8.000000  \n",
       "max       8.000000  "
      ]
     },
     "execution_count": 48,
     "metadata": {},
     "output_type": "execute_result"
    }
   ],
   "source": [
    "# Suppression des doublons\n",
    "meteo_train = meteo_train.reset_index().drop_duplicates(subset = \"date\").set_index(\"date\")\n",
    "meteo_train.describe()"
   ]
  },
  {
   "cell_type": "code",
   "execution_count": 49,
   "metadata": {
    "ExecuteTime": {
     "end_time": "2018-03-29T15:40:49.976925Z",
     "start_time": "2018-03-29T15:40:49.800548Z"
    }
   },
   "outputs": [
    {
     "name": "stdout",
     "output_type": "stream",
     "text": [
      "2015 lenght match ? True\n",
      "2016 lenght match ? True\n",
      "<class 'pandas.core.frame.DataFrame'>\n",
      "DatetimeIndex: 8565 entries, 2015-09-13 01:00:00 to 2016-09-12 21:00:00\n",
      "Data columns (total 10 columns):\n",
      "temperature          8565 non-null float64\n",
      "pression             8565 non-null float64\n",
      "humidite_relative    8565 non-null float64\n",
      "point_rose           8565 non-null float64\n",
      "visibilite           8565 non-null float64\n",
      "vent_moyen           8565 non-null float64\n",
      "vent_rafale          8565 non-null float64\n",
      "vent_direction       8565 non-null float64\n",
      "pluie_3h             8565 non-null float64\n",
      "nebulosite           8565 non-null float64\n",
      "dtypes: float64(10)\n",
      "memory usage: 736.1 KB\n",
      "None\n",
      "<class 'pandas.core.frame.DataFrame'>\n",
      "DatetimeIndex: 8565 entries, 2015-09-13 00:59:59+02:00 to 2016-09-12 21:00:00+02:00\n",
      "Data columns (total 4 columns):\n",
      "puissance         8565 non-null float64\n",
      "Jours             8565 non-null object\n",
      "Vac_sco_ou_pas    8565 non-null int64\n",
      "Ferie_ou_pas      8565 non-null int64\n",
      "dtypes: float64(1), int64(2), object(1)\n",
      "memory usage: 334.6+ KB\n",
      "None\n"
     ]
    },
    {
     "name": "stderr",
     "output_type": "stream",
     "text": [
      "/opt/conda/lib/python3.6/site-packages/ipykernel_launcher.py:37: SettingWithCopyWarning: \n",
      "A value is trying to be set on a copy of a slice from a DataFrame\n",
      "\n",
      "See the caveats in the documentation: http://pandas.pydata.org/pandas-docs/stable/indexing.html#indexing-view-versus-copy\n"
     ]
    }
   ],
   "source": [
    "\n",
    "\n",
    "# Preprocessing\n",
    "meteo_train_2015 = meteo_train[\"2015\"]\n",
    "meteo_train_2016 = meteo_train[\"2016\"]\n",
    "\n",
    "conso_train_2015 = conso_train[\"2015\"]\n",
    "conso_train_2016 = conso_train[\"2016\"]\n",
    "\n",
    "\n",
    "\n",
    "\n",
    "meteo_train_2015_with_one = meteo_train_2015.append(meteo_train_2016.iloc[0, :])\n",
    "\n",
    "meteo_train_2015_resampled = meteo_train_2015_with_one.resample(\"H\").interpolate().iloc[1:-1]\n",
    "\n",
    "print(\"2015 lenght match ?\", len(meteo_train_2015_resampled) == len(conso_train_2015))\n",
    "\n",
    "\n",
    "\n",
    "\n",
    "\n",
    "meteo_train_2016_resampled = meteo_train_2016.resample(\"H\").interpolate()\n",
    "\n",
    "date_29_02_2016 = meteo_train_2016_resampled[\"2016-02-29\"].index\n",
    "\n",
    "meteo_train_2016_resampled.drop(date_29_02_2016, inplace=True)\n",
    "\n",
    "conso_train_2016_adjusted = conso_train_2016.iloc[:-3]\n",
    "\n",
    "print(\"2016 lenght match ?\", len(meteo_train_2016_resampled) == len(conso_train_2016_adjusted))\n",
    "\n",
    "mask_meteo = meteo_train_2016_resampled[\"2016-02-21\":\"2016-02-28\"].index\n",
    "mask_conso = conso_train_2016_adjusted[\"2016-02-21\":\"2016-02-28\"].index\n",
    "\n",
    "meteo_train_2016_resampled.drop(mask_meteo, inplace=True)\n",
    "conso_train_2016_adjusted.drop(mask_conso, inplace=True)\n",
    "\n",
    "\n",
    "meteo_train_resampled = pd.concat([meteo_train_2015_resampled, meteo_train_2016_resampled])\n",
    "\n",
    "meteo_train_resampled.drop(\"neige\", axis = 1, inplace=True)\n",
    "\n",
    "print(meteo_train_resampled.info())\n",
    "\n",
    "conso_train_resampled = pd.concat([conso_train_2015, conso_train_2016_adjusted])\n",
    "\n",
    "print(conso_train_resampled.info())"
   ]
  },
  {
   "cell_type": "code",
   "execution_count": 50,
   "metadata": {
    "ExecuteTime": {
     "end_time": "2018-03-29T15:40:53.410569Z",
     "start_time": "2018-03-29T15:40:53.400526Z"
    },
    "collapsed": true
   },
   "outputs": [],
   "source": [
    "#conso_train.head(5)\n",
    "conso_train_1=pd.get_dummies(conso_train_resampled,['Jours']).copy().drop('puissance',axis=1)\n",
    "conso_train=conso_train_resampled['puissance'].copy()\n"
   ]
  },
  {
   "cell_type": "code",
   "execution_count": null,
   "metadata": {
    "collapsed": true
   },
   "outputs": [],
   "source": []
  },
  {
   "cell_type": "code",
   "execution_count": null,
   "metadata": {
    "collapsed": true
   },
   "outputs": [],
   "source": []
  },
  {
   "cell_type": "code",
   "execution_count": 51,
   "metadata": {
    "ExecuteTime": {
     "end_time": "2018-03-29T15:40:57.061440Z",
     "start_time": "2018-03-29T15:40:56.599237Z"
    }
   },
   "outputs": [
    {
     "data": {
      "text/plain": [
       "<matplotlib.axes._subplots.AxesSubplot at 0x7f453fe53198>"
      ]
     },
     "execution_count": 51,
     "metadata": {},
     "output_type": "execute_result"
    },
    {
     "data": {
      "image/png": "[encoded data removed]",
      "text/plain": [
       "<matplotlib.figure.Figure at 0x7f4543f33358>"
      ]
     },
     "metadata": {},
     "output_type": "display_data"
    }
   ],
   "source": [
    "# La distibution des puissances n'est pas normales\n",
    "(conso_train).plot.kde()"
   ]
  },
  {
   "cell_type": "code",
   "execution_count": 8,
   "metadata": {
    "ExecuteTime": {
     "end_time": "2018-03-29T15:18:32.022856Z",
     "start_time": "2018-03-29T15:18:31.586371Z"
    }
   },
   "outputs": [
    {
     "data": {
      "image/png": "[encoded data removed]",
      "text/plain": [
       "<matplotlib.figure.Figure at 0x7f45443d3cf8>"
      ]
     },
     "metadata": {},
     "output_type": "display_data"
    }
   ],
   "source": [
    "# Normalisons la un peu avec un log\n",
    "np.log(conso_train).plot.kde()\n",
    "conso_train=np.log(conso_train)"
   ]
  },
  {
   "cell_type": "code",
   "execution_count": 9,
   "metadata": {
    "ExecuteTime": {
     "end_time": "2018-03-29T15:18:32.034350Z",
     "start_time": "2018-03-29T15:18:32.026179Z"
    },
    "collapsed": true
   },
   "outputs": [],
   "source": [
    "\n",
    "# Concaténation des données\n",
    "meteo_train=np.c_[conso_train_1,meteo_train_resampled]\n",
    "# Imputer\n",
    "#from sklearn.pipeline import Pipeline\n",
    "#from sklearn.preprocessing import Imputer\n",
    "#num_pipeline=Pipeline([\n",
    "#    ('imputer',Imputer(strategy=\"mean\"))\n",
    "#])\n",
    "#meteo_train=num_pipeline.fit_transform(meteo_train)"
   ]
  },
  {
   "cell_type": "code",
   "execution_count": null,
   "metadata": {
    "collapsed": true
   },
   "outputs": [],
   "source": []
  },
  {
   "cell_type": "code",
   "execution_count": 10,
   "metadata": {
    "ExecuteTime": {
     "end_time": "2018-03-29T15:18:32.071664Z",
     "start_time": "2018-03-29T15:18:32.036603Z"
    },
    "collapsed": true
   },
   "outputs": [],
   "source": [
    "def series_to_supervised(data, n_in=1, n_out=1, dropnan=True):\n",
    "    n_vars = 1 if type(data) is list else data.shape[1]\n",
    "    df = pd.DataFrame(data)\n",
    "    cols, names = list(), list()\n",
    "    # input sequence (t-n, ... t-1)\n",
    "    for i in range(n_in, 0, -1):\n",
    "        cols.append(df.shift(i))\n",
    "        names += [('var%d(t-%d)' % (j+1, i)) for j in range(n_vars)]\n",
    "    # forecast sequence (t, t+1, ... t+n)\n",
    "    for i in range(0, n_out):\n",
    "        cols.append(df.shift(-i))\n",
    "        if i == 0:\n",
    "            names += [('var%d(t)' % (j+1)) for j in range(n_vars)]\n",
    "        else:\n",
    "            names += [('var%d(t+%d)' % (j+1, i)) for j in range(n_vars)]\n",
    "    # put it all together\n",
    "    agg = concat(cols, axis=1)\n",
    "    agg.columns = names\n",
    "    # drop rows with NaN values\n",
    "    if dropnan:\n",
    "        agg.dropna(inplace=True)\n",
    "    return agg"
   ]
  },
  {
   "cell_type": "code",
   "execution_count": 11,
   "metadata": {
    "ExecuteTime": {
     "end_time": "2018-03-29T15:18:32.109703Z",
     "start_time": "2018-03-29T15:18:32.074261Z"
    }
   },
   "outputs": [
    {
     "name": "stdout",
     "output_type": "stream",
     "text": [
      "(8563, 60)\n"
     ]
    }
   ],
   "source": [
    "dataset = pd.concat([pd.DataFrame(meteo_train).reset_index(drop=True), pd.DataFrame(conso_train).reset_index(drop=True)], axis = 1)\n",
    "\n",
    "values = dataset.values\n",
    "\n",
    "#scaler = MinMaxScaler(feature_range=(0, 1))\n",
    "# Début pipeline\n",
    "#from sklearn.pipeline import Pipeline\n",
    "#from sklearn.prepocessing import StandardScaler\n",
    "\n",
    "\n",
    "# Fin pipeline\n",
    "#scaler = StandardScaler(with_mean=True, with_std=False)\n",
    "\n",
    "#scaled = scaler.fit_transform(values[:, :-1])\n",
    "\n",
    "#scaled = np.c_[scaled, values[:, -1]]\n",
    "scaled=values\n",
    "reframed = series_to_supervised(scaled, 2, 1)\n",
    "\n",
    "\n",
    "print(reframed.shape)"
   ]
  },
  {
   "cell_type": "code",
   "execution_count": 12,
   "metadata": {
    "ExecuteTime": {
     "end_time": "2018-03-29T15:18:32.143615Z",
     "start_time": "2018-03-29T15:18:32.111952Z"
    }
   },
   "outputs": [
    {
     "data": {
      "text/html": [
       "<div>\n",
       "<style scoped>\n",
       "    .dataframe tbody tr th:only-of-type {\n",
       "        vertical-align: middle;\n",
       "    }\n",
       "\n",
       "    .dataframe tbody tr th {\n",
       "        vertical-align: top;\n",
       "    }\n",
       "\n",
       "    .dataframe thead th {\n",
       "        text-align: right;\n",
       "    }\n",
       "</style>\n",
       "<table border=\"1\" class=\"dataframe\">\n",
       "  <thead>\n",
       "    <tr style=\"text-align: right;\">\n",
       "      <th></th>\n",
       "      <th>var1(t-2)</th>\n",
       "      <th>var2(t-2)</th>\n",
       "      <th>var3(t-2)</th>\n",
       "      <th>var4(t-2)</th>\n",
       "      <th>var5(t-2)</th>\n",
       "      <th>var6(t-2)</th>\n",
       "      <th>var7(t-2)</th>\n",
       "      <th>var8(t-2)</th>\n",
       "      <th>var9(t-2)</th>\n",
       "      <th>var10(t-2)</th>\n",
       "      <th>...</th>\n",
       "      <th>var11(t)</th>\n",
       "      <th>var12(t)</th>\n",
       "      <th>var13(t)</th>\n",
       "      <th>var14(t)</th>\n",
       "      <th>var15(t)</th>\n",
       "      <th>var16(t)</th>\n",
       "      <th>var17(t)</th>\n",
       "      <th>var18(t)</th>\n",
       "      <th>var19(t)</th>\n",
       "      <th>var20(t)</th>\n",
       "    </tr>\n",
       "  </thead>\n",
       "  <tbody>\n",
       "    <tr>\n",
       "      <th>2</th>\n",
       "      <td>0.0</td>\n",
       "      <td>0.0</td>\n",
       "      <td>1.0</td>\n",
       "      <td>0.0</td>\n",
       "      <td>0.0</td>\n",
       "      <td>0.0</td>\n",
       "      <td>0.0</td>\n",
       "      <td>0.0</td>\n",
       "      <td>0.0</td>\n",
       "      <td>12.433333</td>\n",
       "      <td>...</td>\n",
       "      <td>1006.400000</td>\n",
       "      <td>83.000000</td>\n",
       "      <td>9.500000</td>\n",
       "      <td>40.0</td>\n",
       "      <td>11.112000</td>\n",
       "      <td>16.668000</td>\n",
       "      <td>120.000000</td>\n",
       "      <td>0.000000</td>\n",
       "      <td>8.000000</td>\n",
       "      <td>6.100693</td>\n",
       "    </tr>\n",
       "    <tr>\n",
       "      <th>3</th>\n",
       "      <td>0.0</td>\n",
       "      <td>0.0</td>\n",
       "      <td>1.0</td>\n",
       "      <td>0.0</td>\n",
       "      <td>0.0</td>\n",
       "      <td>0.0</td>\n",
       "      <td>0.0</td>\n",
       "      <td>0.0</td>\n",
       "      <td>0.0</td>\n",
       "      <td>12.366667</td>\n",
       "      <td>...</td>\n",
       "      <td>1005.833333</td>\n",
       "      <td>82.666667</td>\n",
       "      <td>9.433333</td>\n",
       "      <td>40.0</td>\n",
       "      <td>12.346667</td>\n",
       "      <td>18.520000</td>\n",
       "      <td>123.333333</td>\n",
       "      <td>0.444444</td>\n",
       "      <td>7.666667</td>\n",
       "      <td>5.902178</td>\n",
       "    </tr>\n",
       "    <tr>\n",
       "      <th>4</th>\n",
       "      <td>0.0</td>\n",
       "      <td>0.0</td>\n",
       "      <td>1.0</td>\n",
       "      <td>0.0</td>\n",
       "      <td>0.0</td>\n",
       "      <td>0.0</td>\n",
       "      <td>0.0</td>\n",
       "      <td>0.0</td>\n",
       "      <td>0.0</td>\n",
       "      <td>12.300000</td>\n",
       "      <td>...</td>\n",
       "      <td>1005.266667</td>\n",
       "      <td>82.333333</td>\n",
       "      <td>9.366667</td>\n",
       "      <td>40.0</td>\n",
       "      <td>13.581333</td>\n",
       "      <td>20.372000</td>\n",
       "      <td>126.666667</td>\n",
       "      <td>0.888889</td>\n",
       "      <td>7.333333</td>\n",
       "      <td>5.831882</td>\n",
       "    </tr>\n",
       "    <tr>\n",
       "      <th>5</th>\n",
       "      <td>0.0</td>\n",
       "      <td>0.0</td>\n",
       "      <td>1.0</td>\n",
       "      <td>0.0</td>\n",
       "      <td>0.0</td>\n",
       "      <td>0.0</td>\n",
       "      <td>0.0</td>\n",
       "      <td>0.0</td>\n",
       "      <td>0.0</td>\n",
       "      <td>12.300000</td>\n",
       "      <td>...</td>\n",
       "      <td>1004.700000</td>\n",
       "      <td>82.000000</td>\n",
       "      <td>9.300000</td>\n",
       "      <td>40.0</td>\n",
       "      <td>14.816000</td>\n",
       "      <td>22.224000</td>\n",
       "      <td>130.000000</td>\n",
       "      <td>1.333333</td>\n",
       "      <td>7.000000</td>\n",
       "      <td>5.864578</td>\n",
       "    </tr>\n",
       "    <tr>\n",
       "      <th>6</th>\n",
       "      <td>0.0</td>\n",
       "      <td>0.0</td>\n",
       "      <td>1.0</td>\n",
       "      <td>0.0</td>\n",
       "      <td>0.0</td>\n",
       "      <td>0.0</td>\n",
       "      <td>0.0</td>\n",
       "      <td>0.0</td>\n",
       "      <td>0.0</td>\n",
       "      <td>12.300000</td>\n",
       "      <td>...</td>\n",
       "      <td>1004.100000</td>\n",
       "      <td>81.333333</td>\n",
       "      <td>9.800000</td>\n",
       "      <td>40.0</td>\n",
       "      <td>16.050667</td>\n",
       "      <td>25.310667</td>\n",
       "      <td>133.333333</td>\n",
       "      <td>1.777778</td>\n",
       "      <td>7.000000</td>\n",
       "      <td>5.926481</td>\n",
       "    </tr>\n",
       "  </tbody>\n",
       "</table>\n",
       "<p>5 rows × 60 columns</p>\n",
       "</div>"
      ],
      "text/plain": [
       "   var1(t-2)  var2(t-2)  var3(t-2)  var4(t-2)  var5(t-2)  var6(t-2)  \\\n",
       "2        0.0        0.0        1.0        0.0        0.0        0.0   \n",
       "3        0.0        0.0        1.0        0.0        0.0        0.0   \n",
       "4        0.0        0.0        1.0        0.0        0.0        0.0   \n",
       "5        0.0        0.0        1.0        0.0        0.0        0.0   \n",
       "6        0.0        0.0        1.0        0.0        0.0        0.0   \n",
       "\n",
       "   var7(t-2)  var8(t-2)  var9(t-2)  var10(t-2)    ...        var11(t)  \\\n",
       "2        0.0        0.0        0.0   12.433333    ...     1006.400000   \n",
       "3        0.0        0.0        0.0   12.366667    ...     1005.833333   \n",
       "4        0.0        0.0        0.0   12.300000    ...     1005.266667   \n",
       "5        0.0        0.0        0.0   12.300000    ...     1004.700000   \n",
       "6        0.0        0.0        0.0   12.300000    ...     1004.100000   \n",
       "\n",
       "    var12(t)  var13(t)  var14(t)   var15(t)   var16(t)    var17(t)  var18(t)  \\\n",
       "2  83.000000  9.500000      40.0  11.112000  16.668000  120.000000  0.000000   \n",
       "3  82.666667  9.433333      40.0  12.346667  18.520000  123.333333  0.444444   \n",
       "4  82.333333  9.366667      40.0  13.581333  20.372000  126.666667  0.888889   \n",
       "5  82.000000  9.300000      40.0  14.816000  22.224000  130.000000  1.333333   \n",
       "6  81.333333  9.800000      40.0  16.050667  25.310667  133.333333  1.777778   \n",
       "\n",
       "   var19(t)  var20(t)  \n",
       "2  8.000000  6.100693  \n",
       "3  7.666667  5.902178  \n",
       "4  7.333333  5.831882  \n",
       "5  7.000000  5.864578  \n",
       "6  7.000000  5.926481  \n",
       "\n",
       "[5 rows x 60 columns]"
      ]
     },
     "execution_count": 12,
     "metadata": {},
     "output_type": "execute_result"
    }
   ],
   "source": [
    "reframed.head(5)"
   ]
  },
  {
   "cell_type": "markdown",
   "metadata": {},
   "source": [
    "# Nous commençons une modélisation par parties"
   ]
  },
  {
   "cell_type": "markdown",
   "metadata": {},
   "source": [
    "Partie 1"
   ]
  },
  {
   "cell_type": "code",
   "execution_count": 13,
   "metadata": {
    "ExecuteTime": {
     "end_time": "2018-03-29T15:18:32.155503Z",
     "start_time": "2018-03-29T15:18:32.145818Z"
    },
    "collapsed": true
   },
   "outputs": [],
   "source": [
    "# Filtre pour la modélisation par partie [0,500]\n",
    "X=reframed.loc[reframed['var20(t)']<=np.log(500),:].copy()\n",
    "#X=reframed.loc[(reframed['var20(t)']>500) & (reframed['var20(t)']<=700),:].copy()\n",
    "#X=reframed.loc[reframed['var20(t)']<6.5,:].copy()\n",
    "\n",
    "#X=reframed\n",
    "Y=X['var20(t)'].copy()\n",
    "X=X.drop(['var20(t)'],axis=1).copy()\n",
    "#\n"
   ]
  },
  {
   "cell_type": "code",
   "execution_count": 14,
   "metadata": {
    "ExecuteTime": {
     "end_time": "2018-03-29T15:18:32.161350Z",
     "start_time": "2018-03-29T15:18:32.157725Z"
    },
    "collapsed": true
   },
   "outputs": [],
   "source": [
    "\n",
    "\n",
    "#from sklearn.decomposition import PCA\n",
    "\n",
    "#pca=PCA(n_components=0.99)\n",
    "#X_reduced=pca.fit_transform(X)\n",
    "X_reduced=X"
   ]
  },
  {
   "cell_type": "code",
   "execution_count": 15,
   "metadata": {
    "ExecuteTime": {
     "end_time": "2018-03-29T15:18:32.177040Z",
     "start_time": "2018-03-29T15:18:32.163202Z"
    }
   },
   "outputs": [
    {
     "data": {
      "text/plain": [
       "(1808, 59)"
      ]
     },
     "execution_count": 15,
     "metadata": {},
     "output_type": "execute_result"
    }
   ],
   "source": [
    "X_reduced.shape"
   ]
  },
  {
   "cell_type": "code",
   "execution_count": 16,
   "metadata": {
    "ExecuteTime": {
     "end_time": "2018-03-29T15:18:32.199021Z",
     "start_time": "2018-03-29T15:18:32.179341Z"
    }
   },
   "outputs": [
    {
     "name": "stdout",
     "output_type": "stream",
     "text": [
      "(1301, 59) (1301,) (181, 59) (181,) (326, 59) (326,)\n"
     ]
    },
    {
     "name": "stderr",
     "output_type": "stream",
     "text": [
      "/opt/conda/lib/python3.6/site-packages/sklearn/model_selection/_split.py:2026: FutureWarning: From version 0.21, test_size will always complement train_size unless both are specified.\n",
      "  FutureWarning)\n"
     ]
    }
   ],
   "source": [
    "# Split Train/Test\n",
    "\n",
    "X_train, X_test, y_train, y_test = train_test_split(X_reduced, Y, train_size = 0.9, shuffle = True)\n",
    "\n",
    "X_train, X_val, y_train, y_val = train_test_split(X_train, y_train, train_size = 0.8, shuffle = True)\n",
    "\n",
    "\n",
    "#X_train, X_test, y_train, y_test = train_test_split(meteo_train, conso_train, train_size = 0.85, random_state=42)\n",
    "\n",
    "#X_train, X_val, y_train, y_val = train_test_split(X_train, y_train, train_size = 0.9, random_state=42)\n",
    "\n",
    "print(X_train.shape, y_train.shape, X_test.shape, y_test.shape, X_val.shape, y_val.shape)\n",
    "\n",
    "\n",
    "# normalize features\n",
    "#scaler = MinMaxScaler(feature_range=(0, 1))\n",
    "#X_train = scaler.fit_transform(X_train)\n",
    "#X_val=scaler.transform(X_val)\n"
   ]
  },
  {
   "cell_type": "code",
   "execution_count": 17,
   "metadata": {
    "ExecuteTime": {
     "end_time": "2018-03-29T15:18:37.065408Z",
     "start_time": "2018-03-29T15:18:32.201381Z"
    }
   },
   "outputs": [
    {
     "name": "stdout",
     "output_type": "stream",
     "text": [
      "Gradient Boosting 24.609963130349602\n",
      "Forêt aléatoire:  19.48141292179287\n",
      "Extra Trees:  19.8565428191982\n"
     ]
    }
   ],
   "source": [
    "# Models\n",
    "\n",
    "# Prédicteur 0: Gradient Boosting\n",
    "from sklearn.ensemble import GradientBoostingRegressor\n",
    "gbrt=GradientBoostingRegressor(max_depth=None,n_estimators=250,learning_rate=0.5)\n",
    "gbrt.fit(X_train, y_train)\n",
    "y_test_pred_0 = gbrt.predict(X_val)\n",
    "\n",
    "print('Gradient Boosting',mean_absolute_error(np.exp(y_test_pred_0),np.exp(y_val)))\n",
    "\n",
    "# Prédicteur 1: Foret\n",
    "forest_reg = RandomForestRegressor(n_estimators=90,random_state=42)\n",
    "\n",
    "forest_reg.fit(X_train, y_train)\n",
    "y_test_pred_1 = forest_reg.predict(X_val)\n",
    "\n",
    "print('Forêt aléatoire: ',mean_absolute_error(np.exp(y_test_pred_1),np.exp(y_val)))\n",
    "\n",
    "\n",
    "# Predicteur 2: Extremely Randomized Trees\n",
    "from sklearn.ensemble import ExtraTreesRegressor\n",
    "extra=ExtraTreesRegressor(n_estimators=200,random_state=42)\n",
    "extra.fit(X_train, y_train)\n",
    "y_test_pred_2 = extra.predict(X_val)\n",
    "\n",
    "print('Extra Trees: ',mean_absolute_error(np.exp(y_test_pred_2),np.exp(y_val)))\n",
    "\n",
    "# Predicteur 3: Adaboost\n",
    "#from sklearn.ensemble import AdaBoostRegressor\n",
    "#ada_reg=AdaBoostRegressor(\n",
    "#     base_estimator=RandomForestRegressor(n_estimators=90,random_state=42), n_estimators=100\n",
    "#    ,learning_rate=0.75\n",
    "#)\n",
    "\n",
    "#ada_reg.fit(X_train, y_train)\n",
    "#y_test_pred_3 = ada_reg.predict(X_val)\n",
    "\n",
    "#print('AdaBoost: ',mean_absolute_error(np.exp(y_test_pred_3),np.exp(y_val)))\n",
    "\n"
   ]
  },
  {
   "cell_type": "code",
   "execution_count": 18,
   "metadata": {
    "ExecuteTime": {
     "end_time": "2018-03-29T15:18:37.287222Z",
     "start_time": "2018-03-29T15:18:37.067449Z"
    }
   },
   "outputs": [
    {
     "data": {
      "image/png": "[encoded data removed]",
      "text/plain": [
       "<matplotlib.figure.Figure at 0x7f45443473c8>"
      ]
     },
     "metadata": {},
     "output_type": "display_data"
    }
   ],
   "source": [
    "plt.scatter(y_test_pred_0, y_val)\n",
    "plt.show()"
   ]
  },
  {
   "cell_type": "markdown",
   "metadata": {},
   "source": [
    "Partie 2"
   ]
  },
  {
   "cell_type": "code",
   "execution_count": 19,
   "metadata": {
    "ExecuteTime": {
     "end_time": "2018-03-29T15:18:37.301937Z",
     "start_time": "2018-03-29T15:18:37.289303Z"
    },
    "collapsed": true
   },
   "outputs": [],
   "source": [
    "# Filtre pour la modélisation par partie [500,700]\n",
    "X=reframed.loc[(reframed['var20(t)']>np.log(500))&(reframed['var20(t)']<=np.log(700)),:].copy()\n",
    "\n",
    "Y=X['var20(t)'].copy()\n",
    "X=X.drop(['var20(t)'],axis=1).copy()\n",
    "\n"
   ]
  },
  {
   "cell_type": "code",
   "execution_count": 20,
   "metadata": {
    "ExecuteTime": {
     "end_time": "2018-03-29T15:18:37.309231Z",
     "start_time": "2018-03-29T15:18:37.304218Z"
    }
   },
   "outputs": [
    {
     "data": {
      "text/plain": [
       "(2368, 59)"
      ]
     },
     "execution_count": 20,
     "metadata": {},
     "output_type": "execute_result"
    }
   ],
   "source": [
    "\n",
    "\n",
    "#from sklearn.decomposition import PCA\n",
    "\n",
    "#pca=PCA(n_components=0.99)\n",
    "#X_reduced=pca.fit_transform(X)\n",
    "X_reduced=X\n",
    "X_reduced.shape"
   ]
  },
  {
   "cell_type": "code",
   "execution_count": 21,
   "metadata": {
    "ExecuteTime": {
     "end_time": "2018-03-29T15:18:37.324587Z",
     "start_time": "2018-03-29T15:18:37.311212Z"
    }
   },
   "outputs": [
    {
     "name": "stdout",
     "output_type": "stream",
     "text": [
      "(1704, 59) (1704,) (237, 59) (237,) (427, 59) (427,)\n"
     ]
    },
    {
     "name": "stderr",
     "output_type": "stream",
     "text": [
      "/opt/conda/lib/python3.6/site-packages/sklearn/model_selection/_split.py:2026: FutureWarning: From version 0.21, test_size will always complement train_size unless both are specified.\n",
      "  FutureWarning)\n"
     ]
    }
   ],
   "source": [
    "# Split Train/Test\n",
    "\n",
    "X_train, X_test, y_train, y_test = train_test_split(X_reduced, Y, train_size = 0.9, shuffle = True)\n",
    "\n",
    "X_train, X_val, y_train, y_val = train_test_split(X_train, y_train, train_size = 0.8, shuffle = True)\n",
    "\n",
    "print(X_train.shape, y_train.shape, X_test.shape, y_test.shape, X_val.shape, y_val.shape)\n",
    "\n"
   ]
  },
  {
   "cell_type": "code",
   "execution_count": 22,
   "metadata": {
    "ExecuteTime": {
     "end_time": "2018-03-29T15:18:43.926510Z",
     "start_time": "2018-03-29T15:18:37.327730Z"
    }
   },
   "outputs": [
    {
     "name": "stdout",
     "output_type": "stream",
     "text": [
      "Gradient Boosting 36.221755056160035\n",
      "Forêt aléatoire:  27.26298273294507\n",
      "Extra Trees:  26.904493484155278\n"
     ]
    }
   ],
   "source": [
    "# Models\n",
    "\n",
    "# Prédicteur 0: Gradient Boosting\n",
    "from sklearn.ensemble import GradientBoostingRegressor\n",
    "gbrt_1=GradientBoostingRegressor(max_depth=None,n_estimators=250,learning_rate=0.5)\n",
    "gbrt_1.fit(X_train, y_train)\n",
    "y_test_pred_0 = gbrt_1.predict(X_val)\n",
    "\n",
    "print('Gradient Boosting',mean_absolute_error(np.exp(y_test_pred_0),np.exp(y_val)))\n",
    "\n",
    "# Prédicteur 1: Foret\n",
    "forest_reg_1= RandomForestRegressor(n_estimators=90,random_state=42)\n",
    "\n",
    "forest_reg_1.fit(X_train, y_train)\n",
    "y_test_pred_1 = forest_reg_1.predict(X_val)\n",
    "\n",
    "print('Forêt aléatoire: ',mean_absolute_error(np.exp(y_test_pred_1),np.exp(y_val)))\n",
    "\n",
    "\n",
    "# Predicteur 2: Extremely Randomized Trees\n",
    "from sklearn.ensemble import ExtraTreesRegressor\n",
    "extra_1=ExtraTreesRegressor(n_estimators=200,random_state=42)\n",
    "extra_1.fit(X_train, y_train)\n",
    "y_test_pred_2 = extra_1.predict(X_val)\n",
    "\n",
    "print('Extra Trees: ',mean_absolute_error(np.exp(y_test_pred_2),np.exp(y_val)))\n",
    "\n",
    "# Predicteur 3: Adaboost\n",
    "#from sklearn.ensemble import AdaBoostRegressor\n",
    "#ada_reg=AdaBoostRegressor(\n",
    "#     base_estimator=RandomForestRegressor(n_estimators=90,random_state=42), n_estimators=100\n",
    " #   ,learning_rate=0.75\n",
    "#)\n",
    "\n",
    "#ada_reg.fit(X_train, y_train)\n",
    "#y_test_pred_3 = ada_reg.predict(X_val)\n",
    "\n",
    "#print('AdaBoost: ',mean_absolute_error(np.exp(y_test_pred_3),np.exp(y_val)))\n"
   ]
  },
  {
   "cell_type": "code",
   "execution_count": 23,
   "metadata": {
    "ExecuteTime": {
     "end_time": "2018-03-29T15:18:44.151478Z",
     "start_time": "2018-03-29T15:18:43.933177Z"
    }
   },
   "outputs": [
    {
     "data": {
      "image/png": "[encoded data removed]",
      "text/plain": [
       "<matplotlib.figure.Figure at 0x7f4544481470>"
      ]
     },
     "metadata": {},
     "output_type": "display_data"
    }
   ],
   "source": [
    "plt.scatter(y_test_pred_1, y_val)\n",
    "plt.show()"
   ]
  },
  {
   "cell_type": "markdown",
   "metadata": {},
   "source": [
    "Partie 3"
   ]
  },
  {
   "cell_type": "code",
   "execution_count": 24,
   "metadata": {
    "ExecuteTime": {
     "end_time": "2018-03-29T15:18:44.175529Z",
     "start_time": "2018-03-29T15:18:44.153694Z"
    }
   },
   "outputs": [
    {
     "data": {
      "text/plain": [
       "(4387, 59)"
      ]
     },
     "execution_count": 24,
     "metadata": {},
     "output_type": "execute_result"
    }
   ],
   "source": [
    "# Filtre pour la modélisation par partie ]700,et plus]\n",
    "X=reframed.loc[(reframed['var20(t)']>np.log(700)),:].copy()\n",
    "\n",
    "Y=X['var20(t)'].copy()\n",
    "X=X.drop(['var20(t)'],axis=1).copy()\n",
    "\n",
    "\n",
    "\n",
    "#from sklearn.decomposition import PCA\n",
    "\n",
    "#pca=PCA(n_components=0.99)\n",
    "#X_reduced=pca.fit_transform(X)\n",
    "X_reduced=X\n",
    "X_reduced.shape\n"
   ]
  },
  {
   "cell_type": "code",
   "execution_count": 25,
   "metadata": {
    "ExecuteTime": {
     "end_time": "2018-03-29T15:18:44.191683Z",
     "start_time": "2018-03-29T15:18:44.177676Z"
    }
   },
   "outputs": [
    {
     "name": "stdout",
     "output_type": "stream",
     "text": [
      "(3158, 59) (3158,) (439, 59) (439,) (790, 59) (790,)\n"
     ]
    },
    {
     "name": "stderr",
     "output_type": "stream",
     "text": [
      "/opt/conda/lib/python3.6/site-packages/sklearn/model_selection/_split.py:2026: FutureWarning: From version 0.21, test_size will always complement train_size unless both are specified.\n",
      "  FutureWarning)\n"
     ]
    }
   ],
   "source": [
    "# Split Train/Test\n",
    "\n",
    "X_train, X_test, y_train, y_test = train_test_split(X_reduced, Y, train_size = 0.9, shuffle = True)\n",
    "\n",
    "X_train, X_val, y_train, y_val = train_test_split(X_train, y_train, train_size = 0.8, shuffle = True)\n",
    "\n",
    "print(X_train.shape, y_train.shape, X_test.shape, y_test.shape, X_val.shape, y_val.shape)\n"
   ]
  },
  {
   "cell_type": "code",
   "execution_count": 26,
   "metadata": {
    "ExecuteTime": {
     "end_time": "2018-03-29T15:18:57.550345Z",
     "start_time": "2018-03-29T15:18:44.193795Z"
    }
   },
   "outputs": [
    {
     "name": "stdout",
     "output_type": "stream",
     "text": [
      "Gradient Boosting 58.20377057888683\n",
      "Forêt aléatoire:  44.63831754299584\n",
      "Extra Trees:  46.360140533918184\n"
     ]
    }
   ],
   "source": [
    "# Models\n",
    "\n",
    "# Prédicteur 0: Gradient Boosting\n",
    "from sklearn.ensemble import GradientBoostingRegressor\n",
    "gbrt_2=GradientBoostingRegressor(max_depth=None,n_estimators=250,learning_rate=0.5)\n",
    "gbrt_2.fit(X_train, y_train)\n",
    "y_test_pred_0 = gbrt_2.predict(X_val)\n",
    "\n",
    "print('Gradient Boosting',mean_absolute_error(np.exp(y_test_pred_0),np.exp(y_val)))\n",
    "\n",
    "# Prédicteur 1: Foret\n",
    "forest_reg_2 = RandomForestRegressor(n_estimators=90,random_state=42)\n",
    "\n",
    "forest_reg_2.fit(X_train, y_train)\n",
    "y_test_pred_1 = forest_reg_2.predict(X_val)\n",
    "\n",
    "print('Forêt aléatoire: ',mean_absolute_error(np.exp(y_test_pred_1),np.exp(y_val)))\n",
    "\n",
    "\n",
    "# Predicteur 2: Extremely Randomized Trees\n",
    "from sklearn.ensemble import ExtraTreesRegressor\n",
    "extra_2=ExtraTreesRegressor(n_estimators=200,random_state=42)\n",
    "extra_2.fit(X_train, y_train)\n",
    "y_test_pred_2 = extra_2.predict(X_val)\n",
    "\n",
    "print('Extra Trees: ',mean_absolute_error(np.exp(y_test_pred_2),np.exp(y_val)))\n",
    "\n",
    "# Predicteur 3: Adaboost\n",
    "#from sklearn.ensemble import AdaBoostRegressor\n",
    "#ada_reg=AdaBoostRegressor(\n",
    "#     base_estimator=RandomForestRegressor(n_estimators=90,random_state=42), n_estimators=100\n",
    " #   ,learning_rate=0.75\n",
    "#)\n",
    "\n",
    "#ada_reg.fit(X_train, y_train)\n",
    "#y_test_pred_3 = ada_reg.predict(X_val)\n",
    "\n",
    "#print('AdaBoost: ',mean_absolute_error(np.exp(y_test_pred_3),np.exp(y_val)))"
   ]
  },
  {
   "cell_type": "code",
   "execution_count": 27,
   "metadata": {
    "ExecuteTime": {
     "end_time": "2018-03-29T15:18:57.749892Z",
     "start_time": "2018-03-29T15:18:57.553148Z"
    }
   },
   "outputs": [
    {
     "data": {
      "image/png": "[encoded data removed]",
      "text/plain": [
       "<matplotlib.figure.Figure at 0x7f45441470f0>"
      ]
     },
     "metadata": {},
     "output_type": "display_data"
    }
   ],
   "source": [
    "plt.scatter(y_test_pred_1, y_val)\n",
    "plt.show()"
   ]
  },
  {
   "cell_type": "markdown",
   "metadata": {},
   "source": [
    "# Classif sur l'ensemble des données"
   ]
  },
  {
   "cell_type": "code",
   "execution_count": 28,
   "metadata": {
    "ExecuteTime": {
     "end_time": "2018-03-29T15:18:57.945978Z",
     "start_time": "2018-03-29T15:18:57.752003Z"
    }
   },
   "outputs": [
    {
     "name": "stderr",
     "output_type": "stream",
     "text": [
      "/opt/conda/lib/python3.6/site-packages/ipykernel_launcher.py:4: SettingWithCopyWarning: \n",
      "A value is trying to be set on a copy of a slice from a DataFrame\n",
      "\n",
      "See the caveats in the documentation: http://pandas.pydata.org/pandas-docs/stable/indexing.html#indexing-view-versus-copy\n",
      "  after removing the cwd from sys.path.\n",
      "/opt/conda/lib/python3.6/site-packages/ipykernel_launcher.py:5: SettingWithCopyWarning: \n",
      "A value is trying to be set on a copy of a slice from a DataFrame\n",
      "\n",
      "See the caveats in the documentation: http://pandas.pydata.org/pandas-docs/stable/indexing.html#indexing-view-versus-copy\n",
      "  \"\"\"\n"
     ]
    }
   ],
   "source": [
    "\n",
    "X=reframed.copy()\n",
    "X['classe']=0\n",
    "X['classe'][(X['var20(t)']>np.log(500))&(X['var20(t)']<=np.log(700))]=1\n",
    "X['classe'][(X['var20(t)']>np.log(700))]=2"
   ]
  },
  {
   "cell_type": "code",
   "execution_count": 29,
   "metadata": {
    "ExecuteTime": {
     "end_time": "2018-03-29T15:18:57.953318Z",
     "start_time": "2018-03-29T15:18:57.948564Z"
    }
   },
   "outputs": [
    {
     "data": {
      "text/plain": [
       "array([0, 1, 2])"
      ]
     },
     "execution_count": 29,
     "metadata": {},
     "output_type": "execute_result"
    }
   ],
   "source": [
    "X['classe'].unique()"
   ]
  },
  {
   "cell_type": "code",
   "execution_count": 30,
   "metadata": {
    "ExecuteTime": {
     "end_time": "2018-03-29T15:18:57.967107Z",
     "start_time": "2018-03-29T15:18:57.955551Z"
    },
    "collapsed": true
   },
   "outputs": [],
   "source": [
    "Y=X['classe'].copy()\n",
    "Y1=X['var20(t)'].copy()\n",
    "X=X.drop(['var20(t)','classe'],axis=1)"
   ]
  },
  {
   "cell_type": "code",
   "execution_count": 31,
   "metadata": {
    "ExecuteTime": {
     "end_time": "2018-03-29T15:18:57.988085Z",
     "start_time": "2018-03-29T15:18:57.969247Z"
    }
   },
   "outputs": [
    {
     "name": "stdout",
     "output_type": "stream",
     "text": [
      "(6164, 59) (6164,) (857, 59) (857,) (1542, 59) (1542,)\n"
     ]
    },
    {
     "name": "stderr",
     "output_type": "stream",
     "text": [
      "/opt/conda/lib/python3.6/site-packages/sklearn/model_selection/_split.py:2026: FutureWarning: From version 0.21, test_size will always complement train_size unless both are specified.\n",
      "  FutureWarning)\n"
     ]
    }
   ],
   "source": [
    "# Split Train/Test\n",
    "\n",
    "X_train, X_test, y_train, y_test = train_test_split(X, Y, train_size = 0.9, shuffle = True)\n",
    "\n",
    "X_train, X_val, y_train, y_val = train_test_split(X_train, y_train, train_size = 0.8, shuffle = True)\n",
    "\n",
    "print(X_train.shape, y_train.shape, X_test.shape, y_test.shape, X_val.shape, y_val.shape)\n"
   ]
  },
  {
   "cell_type": "code",
   "execution_count": 32,
   "metadata": {
    "ExecuteTime": {
     "end_time": "2018-03-29T15:19:34.272065Z",
     "start_time": "2018-03-29T15:18:57.990335Z"
    },
    "collapsed": true
   },
   "outputs": [],
   "source": [
    "from sklearn.linear_model import LogisticRegression\n",
    "log_reg=LogisticRegression(penalty='l1',class_weight='balanced')\n",
    "\n",
    "log_reg.fit(X_train, y_train)\n",
    "y_test_pred = log_reg.predict(X_val)"
   ]
  },
  {
   "cell_type": "code",
   "execution_count": 33,
   "metadata": {
    "ExecuteTime": {
     "end_time": "2018-03-29T15:19:34.282939Z",
     "start_time": "2018-03-29T15:19:34.275135Z"
    }
   },
   "outputs": [
    {
     "name": "stdout",
     "output_type": "stream",
     "text": [
      "Accuracy:  85.73281452658884 %\n"
     ]
    }
   ],
   "source": [
    "from sklearn.metrics import accuracy_score\n",
    "\n",
    "print('Accuracy: ',accuracy_score(y_test_pred, y_val)*100,'%')\n"
   ]
  },
  {
   "cell_type": "markdown",
   "metadata": {},
   "source": [
    "# Fonction predict global"
   ]
  },
  {
   "cell_type": "code",
   "execution_count": 34,
   "metadata": {
    "ExecuteTime": {
     "end_time": "2018-03-29T15:19:34.395746Z",
     "start_time": "2018-03-29T15:19:34.285373Z"
    },
    "collapsed": true
   },
   "outputs": [],
   "source": [
    "# Pour une nouvelle valeur on prédit d'abord la classe\n",
    "#La classe devient une nouvelle variable\n",
    "\n",
    "X_val['classe_predite']=log_reg.predict(X_val)"
   ]
  },
  {
   "cell_type": "code",
   "execution_count": 35,
   "metadata": {
    "ExecuteTime": {
     "end_time": "2018-03-29T15:19:34.406794Z",
     "start_time": "2018-03-29T15:19:34.398262Z"
    },
    "collapsed": true
   },
   "outputs": [],
   "source": [
    "# On regroupe selon la classe prédite pour acheminer \n",
    "#au bon algo\n",
    "\n",
    "Xval_0=X_val.loc[X_val['classe_predite']==0,:]\n",
    "Xval_1=X_val.loc[X_val['classe_predite']==1,:]\n",
    "Xval_2=X_val.loc[X_val['classe_predite']==2,:]"
   ]
  },
  {
   "cell_type": "code",
   "execution_count": 36,
   "metadata": {
    "ExecuteTime": {
     "end_time": "2018-03-29T15:19:34.417825Z",
     "start_time": "2018-03-29T15:19:34.409025Z"
    }
   },
   "outputs": [],
   "source": [
    "#On supprime la variable classe prédite pour \n",
    "# avoir la bonne dimension\n",
    "Xval_0=Xval_0.drop(['classe_predite'],axis=1)\n",
    "Xval_1=Xval_1.drop(['classe_predite'],axis=1)\n",
    "Xval_2=Xval_2.drop(['classe_predite'],axis=1)"
   ]
  },
  {
   "cell_type": "code",
   "execution_count": 37,
   "metadata": {
    "ExecuteTime": {
     "end_time": "2018-03-29T15:19:34.492383Z",
     "start_time": "2018-03-29T15:19:34.420683Z"
    }
   },
   "outputs": [],
   "source": [
    "# Pour chaque classe on passe la fonction predict du \n",
    "# meilleur algo pour cette classe\n",
    "y_test_pred0= forest_reg.predict(Xval_0)\n",
    "y_test_pred1= forest_reg_1.predict(Xval_1)\n",
    "y_test_pred2= forest_reg_2.predict(Xval_2)"
   ]
  },
  {
   "cell_type": "code",
   "execution_count": 38,
   "metadata": {
    "ExecuteTime": {
     "end_time": "2018-03-29T15:19:34.502231Z",
     "start_time": "2018-03-29T15:19:34.494970Z"
    }
   },
   "outputs": [
    {
     "data": {
      "text/plain": [
       "25.275306552046896"
      ]
     },
     "execution_count": 38,
     "metadata": {},
     "output_type": "execute_result"
    }
   ],
   "source": [
    "mean_absolute_error(np.exp(y_test_pred0),np.exp(Y1[Xval_0.index]))"
   ]
  },
  {
   "cell_type": "code",
   "execution_count": 39,
   "metadata": {
    "ExecuteTime": {
     "end_time": "2018-03-29T15:19:34.514798Z",
     "start_time": "2018-03-29T15:19:34.504200Z"
    }
   },
   "outputs": [
    {
     "data": {
      "text/plain": [
       "30.273407622555297"
      ]
     },
     "execution_count": 39,
     "metadata": {},
     "output_type": "execute_result"
    }
   ],
   "source": [
    "mean_absolute_error(np.exp(y_test_pred1),np.exp(Y1[Xval_1.index]))"
   ]
  },
  {
   "cell_type": "code",
   "execution_count": 40,
   "metadata": {
    "ExecuteTime": {
     "end_time": "2018-03-29T15:19:34.523994Z",
     "start_time": "2018-03-29T15:19:34.516928Z"
    }
   },
   "outputs": [
    {
     "data": {
      "text/plain": [
       "36.64575287898798"
      ]
     },
     "execution_count": 40,
     "metadata": {},
     "output_type": "execute_result"
    }
   ],
   "source": [
    "mean_absolute_error(np.exp(y_test_pred2),np.exp(Y1[Xval_2.index]))"
   ]
  },
  {
   "cell_type": "code",
   "execution_count": 41,
   "metadata": {
    "ExecuteTime": {
     "end_time": "2018-03-29T15:19:34.530135Z",
     "start_time": "2018-03-29T15:19:34.526119Z"
    }
   },
   "outputs": [],
   "source": [
    "#On concatene les prévisions\n",
    "pred=np.ndarray.tolist(np.exp(y_test_pred0))+np.ndarray.tolist(np.exp(y_test_pred1))+np.ndarray.tolist(np.exp(y_test_pred2))"
   ]
  },
  {
   "cell_type": "code",
   "execution_count": 42,
   "metadata": {
    "ExecuteTime": {
     "end_time": "2018-03-29T15:19:34.542144Z",
     "start_time": "2018-03-29T15:19:34.532332Z"
    }
   },
   "outputs": [],
   "source": [
    "# On concatene les vraies valeurs\n",
    "vrai=np.ndarray.tolist(np.exp(Y1[Xval_0.index]).values)+np.ndarray.tolist(np.exp(Y1[Xval_1.index]).values)+np.ndarray.tolist(np.exp(Y1[Xval_2.index]).values)"
   ]
  },
  {
   "cell_type": "code",
   "execution_count": 43,
   "metadata": {
    "ExecuteTime": {
     "end_time": "2018-03-29T15:19:34.549630Z",
     "start_time": "2018-03-29T15:19:34.544553Z"
    }
   },
   "outputs": [
    {
     "data": {
      "text/plain": [
       "32.378276583549166"
      ]
     },
     "execution_count": 43,
     "metadata": {},
     "output_type": "execute_result"
    }
   ],
   "source": [
    "# On calcule la MAE globale\n",
    "mean_absolute_error(pred,vrai)"
   ]
  },
  {
   "cell_type": "code",
   "execution_count": 44,
   "metadata": {
    "ExecuteTime": {
     "end_time": "2018-03-29T15:19:34.792130Z",
     "start_time": "2018-03-29T15:19:34.551681Z"
    }
   },
   "outputs": [
    {
     "data": {
      "image/png": "[encoded data removed]",
      "text/plain": [
       "<matplotlib.figure.Figure at 0x7f4544211b70>"
      ]
     },
     "metadata": {},
     "output_type": "display_data"
    }
   ],
   "source": [
    "# On a dès lors un meilleur nuage de points\n",
    "# qui ressemble plus à la première bissectrice\n",
    "plt.scatter(pred, vrai)\n",
    "plt.show()"
   ]
  }
 ],
 "metadata": {
  "kernelspec": {
   "display_name": "Python 3",
   "language": "python",
   "name": "python3"
  },
  "language_info": {
   "codemirror_mode": {
    "name": "ipython",
    "version": 3
   },
   "file_extension": ".py",
   "mimetype": "text/x-python",
   "name": "python",
   "nbconvert_exporter": "python",
   "pygments_lexer": "ipython3",
   "version": "3.6.1"
  }
 },
 "nbformat": 4,
 "nbformat_minor": 2
}
